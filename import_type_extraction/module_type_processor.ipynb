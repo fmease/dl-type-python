{
 "cells": [
  {
   "cell_type": "code",
   "execution_count": 1,
   "metadata": {
    "scrolled": true
   },
   "outputs": [
    {
     "name": "stderr",
     "output_type": "stream",
     "text": [
      "[nltk_data] Downloading package averaged_perceptron_tagger to\n",
      "[nltk_data]     C:\\Users\\Evaldas\\AppData\\Roaming\\nltk_data...\n",
      "[nltk_data]   Package averaged_perceptron_tagger is already up-to-\n",
      "[nltk_data]       date!\n",
      "[nltk_data] Downloading package stopwords to\n",
      "[nltk_data]     C:\\Users\\Evaldas\\AppData\\Roaming\\nltk_data...\n",
      "[nltk_data]   Package stopwords is already up-to-date!\n",
      "[nltk_data] Downloading package wordnet to\n",
      "[nltk_data]     C:\\Users\\Evaldas\\AppData\\Roaming\\nltk_data...\n",
      "[nltk_data]   Package wordnet is already up-to-date!\n"
     ]
    },
    {
     "name": "stdout",
     "output_type": "stream",
     "text": [
      "{'nt.times_result', 'os.statvfs_result', 'joblib.memory.Memory', 'joblib.logger.PrintTime', 'os._wrap_close', 'os.PathLike', 'collections.abc.MutableMapping', 'os._Environ', 'os.terminal_size', 'nt.DirEntry', 'os.stat_result', 'joblib.parallel.parallel_backend', 'joblib.parallel.Parallel', 'nt.uname_result', 'joblib.logger.Logger', 'joblib.memory.MemorizedResult', 'builtins.error'}\n"
     ]
    }
   ],
   "source": [
    "from module_type_generator import ModuleGenerator\n",
    "from gh_query import load_json, gen_json_file, find_current_repos"
   ]
  },
  {
   "cell_type": "code",
   "execution_count": 6,
   "metadata": {},
   "outputs": [
    {
     "name": "stdout",
     "output_type": "stream",
     "text": [
      "number of projects: 2\n"
     ]
    },
    {
     "data": {
      "text/plain": [
       "[{'author': 'pandas-dev',\n",
       "  'repo': 'pandas',\n",
       "  'repoUrl': 'https://github.com/pandas-dev/pandas',\n",
       "  'stars': 20800,\n",
       "  'forks': 8240},\n",
       " {'author': 'numpy',\n",
       "  'repo': 'numpy-stubs',\n",
       "  'repoUrl': 'https://github.com/numpy/numpy-stubs',\n",
       "  'stars': 149,\n",
       "  'forks': 17}]"
      ]
     },
     "execution_count": 6,
     "metadata": {},
     "output_type": "execute_result"
    }
   ],
   "source": [
    "# Load list of repositories (same as in TW/DLTPy pipeline)\n",
    "repos = load_json('.././data/mypy-dependents-by-stars.json')\n",
    "gen_json_file('.././data/py_500.json', repos, find_current_repos('.././data/training_repos/', True))\n",
    "repos = load_json('.././data/py_500.json')\n",
    "\n",
    "print(\"number of projects:\", len(repos))\n",
    "repos"
   ]
  },
  {
   "cell_type": "code",
   "execution_count": null,
   "metadata": {
    "scrolled": true
   },
   "outputs": [
    {
     "name": "stderr",
     "output_type": "stream",
     "text": [
      "100%|██████████| 2/2 [00:00<00:00, 818.48it/s]\n"
     ]
    }
   ],
   "source": [
    "# Initialize repos & output directories\n",
    "repos_dir = \"../data/training_repos\"\n",
    "output_dir = \"../output/import_types\"\n",
    "final_dir = \"../output/_all_import_types.csv\"\n",
    "\n",
    "module_generator = ModuleGenerator(repos_dir, output_dir)\n",
    "module_generator.process_repos_for_types(repos, jobs=8)\n",
    "\n",
    "# Combine all generated DFs together\n",
    "module_generator.concatenate_dataframes(final_dir)"
   ]
  },
  {
   "cell_type": "code",
   "execution_count": null,
   "metadata": {},
   "outputs": [],
   "source": []
  }
 ],
 "metadata": {
  "kernelspec": {
   "display_name": "Python 3.7.6 64-bit",
   "language": "python",
   "name": "python37664bit0c1bf504740848439a4c1321803b5d13"
  },
  "language_info": {
   "codemirror_mode": {
    "name": "ipython",
    "version": 3
   },
   "file_extension": ".py",
   "mimetype": "text/x-python",
   "name": "python",
   "nbconvert_exporter": "python",
   "pygments_lexer": "ipython3",
   "version": "3.7.6"
  }
 },
 "nbformat": 4,
 "nbformat_minor": 2
}
