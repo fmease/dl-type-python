{
 "cells": [
  {
   "cell_type": "code",
   "execution_count": 1,
   "metadata": {
    "scrolled": true
   },
   "outputs": [
    {
     "name": "stderr",
     "output_type": "stream",
     "text": [
      "[nltk_data] Downloading package averaged_perceptron_tagger to\n",
      "[nltk_data]     C:\\Users\\Evaldas\\AppData\\Roaming\\nltk_data...\n",
      "[nltk_data]   Package averaged_perceptron_tagger is already up-to-\n",
      "[nltk_data]       date!\n",
      "[nltk_data] Downloading package stopwords to\n",
      "[nltk_data]     C:\\Users\\Evaldas\\AppData\\Roaming\\nltk_data...\n",
      "[nltk_data]   Package stopwords is already up-to-date!\n",
      "[nltk_data] Downloading package wordnet to\n",
      "[nltk_data]     C:\\Users\\Evaldas\\AppData\\Roaming\\nltk_data...\n",
      "[nltk_data]   Package wordnet is already up-to-date!\n"
     ]
    },
    {
     "name": "stdout",
     "output_type": "stream",
     "text": [
      "{'builtins.EnvironmentError', 'types.DynamicClassAttribute', 'argparse.Action', 'itertools._islice', 'contextlib.redirect_stderr', '_ast.ImportFrom', 'numpy.format_parser', 'tarfile.TruncatedHeaderError', 'zipfile.error', 'calendar.LocaleHTMLCalendar', 'inspect._void', 'argparse._StoreTrueAction', 'builtins.ValueError', 'builtins.list_iterator', '_ast.IfExp', 'numpy.ComplexWarning', 'builtins.TracebackType', 'argparse._StoreAction', 'numpy.float16', '_ast.Eq', 'socket._GiveupOnSendfile', 'builtins.FrameType', 'numpy.cfloat', '_ast.LShift', '_ast.Delete', 'itertools._tee', '_pickle.PickleError', '_bz2.BZ2Compressor', 'builtins.NotADirectoryError', 'types.SimpleNamespace', 'numpy.inexact', 'numpy.clongdouble', 'numpy.longcomplex', 'builtins.BytesWarning', '_lzma.LZMACompressor', 'selectors.DefaultSelector', 'itertools.starmap', 'inspect.EndOfBlock', '_ast.AsyncWith', '_ast.NameConstant', 'contextlib.ExitStack', 'builtins.complex', 'numpy.ndindex', 'urllib.parse._ResultMixinStr', 'threading.Condition', 'builtins.ConnectionResetError', 'datetime.timedelta', 'builtins.CallableProxyType', 're.RegexFlag', 'itertools._tee_dataobject', '_frozen_importlib_external.SourcelessFileLoader', 'urllib.parse.SplitResultBytes', '_io.IncrementalNewlineDecoder', 'socket.socket', '_ast.slice', '_ast.stmt', 'argparse._HelpAction', '_ast.Expression', 'builtins.ReferenceError', 'numpy.intp', '_ast.arguments', 'builtins.error', '_ast.ExceptHandler', 'datetime.date', 'http.HTTPStatus', 'numpy.testing._private.utils.suppress_warnings', 'warnings.catch_warnings', 'collections.abc.AsyncIterator', 'inspect.Parameter', 'shlex.shlex', 'pprint._safe_key', '_ast.BitXor', 'tarfile.InvalidHeaderError', 'numpy.complex64', 'numpy.single', 'itertools.count', 'builtins.set_iterator', 'itertools._starmap', 'zipfile.PyZipFile', 'functools.partialmethod', 'builtins.IOError', 'builtins._code_type', 'numpy.AxisError', '_compression.DecompressReader', 'pickle._Pickler', 'builtins.TabError', 'builtins.tuple_iterator', 'builtins.WrapperDescriptorType', 'calendar.IllegalWeekdayError', 'itertools._grouper', 'sre_parse.SubPattern', 'builtins.GetSetDescriptorType', 'builtins.UserWarning', 'abc.abstractproperty', 'argparse._ActionsContainer', 'copy.Error', 'email.message.MIMEPart', 'ast.NodeTransformer', 'builtins.super', 'numpy.complexfloating', 'encodings.CodecRegistryError', 'numpy.unsignedinteger', 'builtins.dict_values', 'tarfile.TarInfo', '_thread.local', 'builtins.GeneratorType', 'builtins.slice', 'builtins.ZeroDivisionError', 'numpy.vectorize', 'numpy.csingle', 'contextlib.suppress', 'collections._OrderedDictItemsView', 'numpy.object_', 'builtins.ClassType', 'sre_parse.Tokenizer', 'importlib.util.LazyLoader', 'numpy.int64', 'os.terminal_size', '_ast.Not', 'numpy.uint16', 'builtins.int', '_ast.Nonlocal', 'builtins.bytearray_iterator', 'builtins.zip_iterator', 'tarfile.CompressionError', 'itertools._count', '_ast.FormattedValue', 'builtins.generator', 'codecs.BufferedIncrementalDecoder', 'time.struct_time', 'builtins.str', 'numpy.bool_', 'pdb.Pdb', 'pdb.Restart', 'numpy.int16', 'pkgutil.ModuleInfo', '_ast.expr_context', 'builtins.dict_itemiterator', 'numpy.floating', 'contextlib.ContextDecorator', 'email.message.EmailMessage', 'contextlib._BaseExitStack', 'collections.abc.Iterator', '_ast.AugLoad', 'functools._CacheInfo', 'unittest.runner.TextTestResult', '_ast.Call', 'urllib.parse.ParseResult', 'threading._MainThread', 'inspect.ArgInfo', 'tokenize.StopTokenizing', 'argparse.HelpFormatter', 'builtins.frozenset', '_ast.Is', 'inspect.Arguments', '_ast.unaryop', 'contextlib._AsyncGeneratorContextManager', 'collections.abc.Collection', '_ast.Assign', 'threading.Thread', 'collections.abc.Hashable', 'traceback.FrameSummary', 'argparse.ArgumentError', 'zipfile.LargeZipFile', 'itertools._chain', '_ast.If', 'runpy._ModifiedArgv0', 'numpy.uintp', 'builtins.AssertionError', 'numpy.poly1d', 'tarfile._Stream', 'argparse.MetavarTypeHelpFormatter', 'pickle._Unpickler', 'numpy.chararray', 'codecs.StreamReader', 'locale.Error', '_ast.BitOr', '_frozen_importlib._ModuleLockManager', '_io.BufferedRandom', 'argparse._ArgumentGroup', '_ast.Del', '_ast.Try', 'builtins.str_iterator', 'numpy.recarray', 'socket.AddressFamily', '_ast.AsyncFor', 'builtins.EOFError', 'numpy.uint64', '_ast.comprehension', 'zipfile.BadZipfile', '_ast.In', 'reprlib.Repr', 'builtins.FileNotFoundError', 'tarfile.ReadError', 'builtins.MethodWrapperType', 'builtins.FloatingPointError', 'struct.error', 'pydoc._PlainTextDoc', 'pydoc.HTMLDoc', 'numpy.MachAr', 'builtins.UnicodeWarning', '_ast.LtE', 'datetime.datetime_timedelta', 'builtins.bool', 'os._Environ', '_ast.cmpop', 'zipfile._SharedFile', 'builtins.range', 'unittest.result.TestResult', 'tarfile.HeaderError', '_ast.Interactive', 'numpy.double', 'numpy.uintc', 'io.IOBase', '_ast.Import', 'abc.abstractclassmethod', 'selectors.SelectorKey', 'zipfile.BadZipFile', 'threading.Event', 'threading.Semaphore', 'email.message.Message', 'inspect.FullArgSpec', '_ast.And', '_ast.Module', 'builtins.WindowsError', '_io._BufferedIOBase', 'builtins.bytearray', '_frozen_importlib_external._NamespacePath', 'itertools.permutations', 'builtins._builtin_str', 'inspect.Attribute', 'itertools.groupby', 'tempfile._RandomNameSequence', 'string.Formatter', 'builtins.RecursionError', '_ast.For', '_ast.BitAnd', 'codecs.StreamWriter', '_thread.RLock', 'selectors.BaseSelector', 'builtins.object', 'enum._EnumDict', '_ast.Pow', 'builtins.ModuleType', 'builtins.dict_keys', 'threading._RLock', 'functools._HashedSeq', 'pydoc.ModuleScanner', 'difflib.Match', '_strptime.TimeRE', 'numpy.testing._private.utils.KnownFailureException', 'inspect.FrameInfo', 'numpy.void0', 'getopt.GetoptError', 'calendar.HTMLCalendar', '_ast.Dict', 'tempfile.SpooledTemporaryFile', 'tokenize.TokenInfo', 'itertools.accumulate', '_ast.FunctionDef', '_ast.Yield', 'zipfile.LZMADecompressor', 'numpy.cdouble', '_io._TextIOBase', '_pickle.Pickler', 'codecs.BufferedIncrementalEncoder', 'dis.Bytecode', 'pkgutil.ImpLoader', '_frozen_importlib.ModuleSpec', 'itertools._repeat', 'builtins.property', '_ast.Str', 'code.InteractiveConsole', 'collections._OrderedDictKeysView', 'difflib.HtmlDiff', 'calendar.IllegalMonthError', 'zipfile.ZipFile', 'io.BufferedIOBase', 'platform.uname_result', 'scipy.linalg.misc.LinAlgWarning', '_ast.Index', '_ast.Store', '_frozen_importlib._DummyModuleLock', 'typing.Dict', 'builtins.ImportWarning', 'threading.Barrier', 'threading.Timer', 'collections.abc.MutableMapping', 'numpy.bytes0', '_frozen_importlib._ModuleLock', 'numpy.complex_', 'urllib.parse.DefragResult', 'numpy.intc', '_ast.Num', '_ast.Starred', '_ast.excepthandler', '_frozen_importlib_external.PathFinder', 'lzma.LZMAFile', '_ast.operator', 'collections.UserList', 'numpy.finfo', 'builtins.CoroutineType', 'numpy.int_', '_ast.Invert', '_ast.withitem', 'code.InteractiveInterpreter', 'string.Template', '__future__._Feature', 'builtins.StopAsyncIteration', '_io._WindowsConsoleIO', '_ast.USub', 'builtins.LambdaType', 'shutil.SameFileError', 'tarfile._FileInFile', 'calendar.LocaleTextCalendar', 'builtins.mappingproxy', 'builtins.list', 'builtins.type', 'numpy.ModuleDeprecationWarning', '_frozen_importlib._installed_safely', 'builtins.bytes_iterator', 'urllib.parse.ParseResultBytes', 'collections.abc.KeysView', 'collections.OrderedDict', 'builtins.dict_valueiterator', '_ast.SetComp', '_ast.BinOp', 'datetime.time', 'io.UnsupportedOperation', 'shutil.RegistryError', '_ast.Expr', 'numpy.ndenumerate', 'builtins.memoryview', 'datetime.datetime_date', 'pickle._Framer', 'unittest.main.main', 'builtins.long', 'io.RawIOBase', 'itertools.combinations_with_replacement', 'itertools.cycle', '_ast.IsNot', 'unittest.runner._TextTestResult', '_ast.Lt', 'codecs.StreamRecoder', 'collections.abc.Reversible', 're.Match', 'builtins.BaseException', 'numpy.longlong', 'builtins.BufferError', 'builtins.ChildProcessError', 'argparse.ArgumentDefaultsHelpFormatter', 'shutil.ReadError', 'builtins.TimeoutError', '_frozen_importlib.BuiltinImporter', 'subprocess.CompletedProcess', 'tempfile.TemporaryDirectory', 'zipfile.ZipExtFile', 'collections.ChainMap', 'warnings._OptionError', 'collections.abc.Container', 'numpy.nditer', 'weakref.WeakMethod', 'inspect.ClosureVars', 'builtins.ConnectionRefusedError', 'builtins.UnicodeDecodeError', '_io.BufferedReader', 'urllib.parse._NetlocResultMixinBase', '_weakrefset.WeakSet', 'numpy.half', '_ast.Raise', 'runpy._TempModule', '_frozen_importlib.__loader__', '_ast.Break', 'builtins.PermissionError', 'os.PathLike', 'binascii.Incomplete', '_ast.Assert', 'numpy.unicode_', 'datetime.tzinfo', 'itertools.product', '_ast.Name', '_frozen_importlib_external._LoaderBasics', 'getopt.error', 'numpy.str_', 'enum.Flag', 'shutil.SpecialFileError', 'textwrap.TextWrapper', 'warnings.WarningMessage', '_frozen_importlib._DeadlockError', 'builtins.ConnectionError', 'calendar.different_locale', '_io.BufferedWriter', 'builtins.SyntaxError', 'contextlib.AbstractContextManager', '_ast.Load', 'email._policybase.Policy', 'builtins.CodeType', 'argparse._MutuallyExclusiveGroup', '_ast.Sub', 'builtins.range_iterator', 'weakref.WeakValueDictionary', 'typing.Optional', 'weakref.KeyedRef', 'builtins.BuiltinMethodType', 'inspect.BlockFinder', 'argparse._StoreFalseAction', 'builtins.DeprecationWarning', 'builtins.IsADirectoryError', 'builtins.BrokenPipeError', 'socket.gaierror', '_ast.RShift', 'bdb.BdbQuit', 'inspect.ArgSpec', '_pickle.UnpicklingError', 'numpy.character', '_threading_local.local', 'numpy.float_', '_socket._realsocket', 'numpy.generic', 'codecs.CodecInfo', 'itertools.zip_longest', 'enum.EnumMeta', '_lzma.LZMAError', 'builtins.InterruptedError', 'traceback.StackSummary', 'numpy.testing._private.nosetester.Tester', 'builtins.list_reverseiterator', 'builtins.zip', 'builtins.StopIteration', 'builtins.reversed', 'collections.abc.Sized', '_ast.While', 'builtins.dict_items', 'inspect.Signature', '_ast.DictComp', 'bdb.Tdb', 'argparse._AttributeHolder', 'tarfile.SubsequentHeaderError', 'argparse._AppendAction', 'tempfile._TemporaryFileWrapper', '_ast.GtE', '_ast.Continue', 'tempfile._TemporaryFileCloser', '_thread.LockType', 'copy.error', 'contextlib._RedirectStream', 'itertools.chain', 'itertools.compress', 'sre_parse.Verbose', 'socket.MsgFlag', 'binascii.Error', 'builtins.Warning', 'codecs.StreamReaderWriter', 'urllib.parse.DefragResultBytes', '_frozen_importlib_external.FileFinder', 'enum.IntEnum', 'subprocess.SubprocessError', 'inspect._ParameterKind', 'tarfile.EOFHeaderError', 'os._wrap_close', 'collections.UserString', 'numpy.matrix', '_frozen_importlib_external.ExtensionFileLoader', 'abc.ABC', 'numpy.ndarray', '_frozen_importlib_external.FileLoader', 'builtins.MethodDescriptorType', 'pdb._rstr', 'numpy.timedelta64', 'builtins.async_generator', 'numpy.ubyte', 'urllib.parse._NetlocResultMixinBytes', 'unittest.case.TestCase', 'numpy.TooHardError', 'difflib.SequenceMatcher', '_ast.FloorDiv', 'shutil._ntuple_diskusage', 'numpy._pytesttester.PytestTester', 'tarfile.ExtractError', '_py_abc.ABCMeta', 'unittest.loader.TestLoader', 'collections.abc.ByteString', 'random._Random', 'collections.abc.Coroutine', 'urllib.parse.ResultBase', 'builtins._WrapperDescriptor', 'numpy.int8', 'numpy.byte', 'collections.abc.Mapping', 'numpy.testing._private.utils.clear_and_catch_warnings', 'itertools.dropwhile', 'calendar.Calendar', 'builtins.IndexError', '_ast.Mod', 'numpy.testing._private.utils.IgnoreException', 'builtins.ArithmeticError', 'os.statvfs_result', 'collections.abc.MutableSequence', 'sre_constants._NamedIntConstant', 'numpy.ushort', 'collections._Link', 'runpy._Error', 'builtins.RuntimeError', 'collections.abc.Generator', 'datetime.timezone', 'numpy.uint0', '_ast.NotIn', 'bdb.Bdb', 'string._TemplateMetaclass', 'builtins.ImportError', 'pprint.PrettyPrinter', '_ast.Subscript', 'importlib.util._LazyModule', '_ast.JoinedStr', '_socket.socket', 'zipimport.ZipImportError', 'builtins.MemoryError', 'sre_parse.Pattern', 'numpy.number', 'selectors.SelectSelector', 'builtins.Exception', 'builtins._ClassMethodWrapper', 'numpy.DataSource', '_pickle.Unpickler', '_ast.Ellipsis', 'tarfile.EmptyHeaderError', 'builtins.RuntimeWarning', '_ast.Set', 'unittest.suite.TestSuite', 'numpy.longfloat', '_thread._CRLock', 'bz2.BZ2File', 'datetime.datetime_timezone', 'numpy.linalg.LinAlgError', 'calendar.TextCalendar', '_ast.Return', 're.Pattern', 'collections.abc.ValuesView', 'builtins.KeyError', 'abc.abstractstaticmethod', 'contextlib.AbstractAsyncContextManager', 'zlib.error', 'functools._lru_cache_wrapper', 'builtins.OverflowError', 'builtins.TypeError', '_winapi.Overlapped', '_io.StringIO', '_ast.arg', 'cmd.Cmd', 'shutil.Error', 'contextlib._GeneratorContextManager', 'builtins.ProxyType', 'builtins.bytes', 'builtins._MethodWrapper', 'collections.deque', 'builtins.staticmethod', 'numpy.clongfloat', 'collections._ChainMap', 'selectors._SelectorMapping', 'builtins.MemberDescriptorType', 'urllib.parse._ParseResultBase', 'subprocess.CalledProcessError', 'builtins.BlockingIOError', 'collections.abc.Callable', '_frozen_importlib_external.WindowsRegistryFinder', 'pkgutil.ImpImporter', 'socket.timeout', 'builtins.longrange_iterator', '_ast.Bytes', 'urllib.parse._SplitResultBase', '_frozen_importlib_external.SourceFileLoader', 'nt.DirEntry', 'pickle._Stop', '_ast.mod', 'tokenize.Untokenizer', 'unittest.runner.TextTestRunner', '_ast.NotEq', 'unittest.case.SkipTest', 'builtins.map', '_ast.UnaryOp', 'tarfile.StreamError', 'nt.times_result', '_io._RawIOBase', '_ast.Await', '_ast.With', 'builtins.IndentationError', 'argparse._AppendConstAction', 'contextlib.nullcontext', 'numpy.ufunc', 'urllib.parse.SplitResult', 'numpy.RankWarning', 'numpy.int32', 'builtins.HKEYType', 'socket.SocketKind', 'builtins.tuple', 'builtins.NameError', 'numpy.signedinteger', 'ast.NodeVisitor', 'zipfile._Tellable', 'numpy.void', 'builtins.Struct', 'urllib.parse._ResultMixinBytes', 'tokenize.TokenError', 'urllib.parse._NetlocResultMixinStr', 'codeop.CommandCompiler', 'collections.abc.AsyncIterable', 'threading.BrokenBarrierError', 'enum.auto', '_ast.Global', 'argparse.RawDescriptionHelpFormatter', 'tarfile.TarError', '_ast.UAdd', 'abc.ABCMeta', 'builtins.unicode', 'urllib.parse.Quoter', 'collections.UserDict', 'itertools.filterfalse', 'builtins.ThreadError', 'builtins.AttributeError', '_ast.Add', 'io.TextIOBase', 'contextlib.AsyncExitStack', 'numpy.flexible', 'subprocess.Handle', 'subprocess.STARTUPINFO', 'builtins.ConnectionAbortedError', '_ast.GeneratorExp', '_ast.Mult', 'tarfile.ExFileObject', '_io._StringIO', 'collections.abc.Sequence', 'collections.abc.Awaitable', 'argparse.ArgumentParser', 'builtins.coroutine', '_ast.ClassDef', 'calendar._localized_day', '_ast.ExtSlice', 'signal.Handlers', 'builtins.ClassMethodDescriptorType', 'builtins.enumerate', 'builtins.ModuleNotFoundError', 'traceback.TracebackException', 'argparse._SubParsersAction', 'collections.defaultdict', 'enum._IntEnum', 'pydoc.Helper', 'builtins.filter', 'builtins.FutureWarning', '_ast.Gt', 'tarfile._LowLevelFile', 'argparse._CountAction', 'operator.attrgetter', 'numpy.uint32', '_io.BufferedRWPair', 'zipimport.zipimporter', 'itertools.islice', 'enum.Enum', 'numpy.iinfo', 'numpy.integer', 'builtins.UnicodeError', '_ast.AnnAssign', 'argparse.RawTextHelpFormatter', 'builtins.PendingDeprecationWarning', 'weakref.finalize', '_ast.Param', 'builtins.MappingProxyType', 'numpy.busdaycalendar', 'builtins.dict_keyiterator', 'unittest.main.TestProgram', '_ast.Attribute', '_ast.boolop', 'shutil.ExecError', 'builtins.classmethod', 'pydoc.TextRepr', 'inspect.BoundArguments', 'inspect.Traceback', 'numpy.singlecomplex', 'builtins.ReferenceType', '_compression.BaseStream', 'numpy.broadcast', '_ast.ListComp', 'numpy.VisibleDeprecationWarning', 'numpy.ulonglong', '_bz2.BZ2Decompressor', '_frozen_importlib_external.SourceLoader', 'numpy.object0', 'numpy.uint8', 'builtins.set', 'builtins.GeneratorExit', 'contextlib.closing', 'socket.herror', 'collections._OrderedDictValuesView', 'builtins.SystemError', 'numpy.uint', '_io._IOBase', 'collections.abc.ItemsView', 'dis.Instruction', 'signal.Signals', 'pydoc.Doc', '_thread._local', 'itertools.repeat', 'inspect._empty', '_io.BytesIO', 'pydoc.ErrorDuringImport', 'threading._DummyThread', 'builtins.ref', 'builtins.BuiltinFunctionType', 'builtins.SystemExit', 'contextlib.redirect_stdout', '_frozen_importlib_external._NamespaceLoader', 'builtins.AsyncGeneratorType', 'zipfile.ZipInfo', 'builtins.FunctionType', 'pydoc.TextDoc', 'numpy.short', 'functools.partial', 'datetime.datetime', '_ast.Lambda', '_ast.Pass', 'numpy.dtype', '_pickle.PicklingError', 'builtins.FileExistsError', 'difflib.Differ', '_socket.SocketType', 'threading._PyRLock', 'numpy.int0', '_ast.keyword', '_ast.List', '_weakrefset._IterationGuard', '_ast.Or', 'numpy.memmap', 'builtins.SyntaxWarning', 'pickle._Unframer', 'codecs.IncrementalDecoder', '_ast.alias', '_strptime.LocaleTime', 'builtins.dict', 'numpy.record', 'numpy.string_', 'operator._itemgetter', 'numpy.float64', '_ast.Suite', 'zipfile._ZipWriteFile', 'gzip._GzipReader', 'collections.Counter', '_frozen_importlib.FrozenImporter', 'numpy.float32', '_ast.Div', 'builtins.ProcessLookupError', 'numpy.errstate', 'calendar._localized_month', 'urllib.parse._DefragResultBase', '_io.FileIO', 'itertools.combinations', 'argparse.ArgumentTypeError', 'builtins.ResourceWarning', 'collections.abc.Iterable', 'socket.AddressInfo', 'gzip._PaddedFile', 'tarfile._StreamProxy', '_ast.YieldFrom', 'numpy.str0', 'codecs.Codec', 'collections.abc.MutableSet', 'os.stat_result', 'collections.abc.AsyncGenerator', 'contextlib._GeneratorContextManagerBase', 'builtins.NotImplementedError', 'unittest.suite.BaseTestSuite', 'numpy.longdouble', 'threading.BoundedSemaphore', 'itertools.takewhile', 'collections.abc.Set', 'zipfile.LZMACompressor', '_ast.Compare', '_ast.expr', 'builtins.MethodType', 're.error', 'builtins.UnicodeEncodeError', 'selectors._PollLikeSelector', '_ast.Constant', 'numpy.bytes_', 'builtins.OSError', '_ast.Tuple', 'bdb.Breakpoint', 'pydoc.HTMLRepr', 'types._GeneratorWrapper', 'numpy.complex128', 'collections.abc.MappingView', 'socket.SocketIO', 'numpy.flatiter', '_ast.MatMult', 'subprocess.Popen', 'tarfile.TarFile', 'builtins.float', '_ast.AugAssign', 're.Scanner', 'argparse._VersionAction', 'unittest.case.FunctionTestCase', '_io.TextIOWrapper', 'argparse.FileType', '_ast.Slice', 'weakref.WeakKeyDictionary', 'builtins.UnicodeTranslateError', 'enum.IntFlag', 'dis._Instruction', '_frozen_importlib._ImportLockContext', 'builtins.LookupError', 'email.charset.Charset', 'numpy.bool8', '_ast.BoolOp', 'argparse._StoreConstAction', '_ast.AsyncFunctionDef', 'subprocess.TimeoutExpired', 'selectors._BaseSelectorImpl', 'nt.uname_result', 'builtins.UnboundLocalError', '_ast.AST', 'gzip.GzipFile', 'numpy.datetime64', 'builtins.KeyboardInterrupt', '_lzma.LZMADecompressor', 'argparse.Namespace', '_ast.AugStore', 'codecs.IncrementalEncoder', 'collections._deque'}\n"
     ]
    }
   ],
   "source": [
    "import sys\n",
    "\n",
    "from module_type_generator import ModuleGenerator\n",
    "from gh_query import load_json, gen_json_file, find_current_repos"
   ]
  },
  {
   "cell_type": "code",
   "execution_count": 2,
   "metadata": {},
   "outputs": [
    {
     "name": "stdout",
     "output_type": "stream",
     "text": [
      "number of projects: 1\n"
     ]
    },
    {
     "data": {
      "text/plain": [
       "[{'author': 'pandas-dev',\n",
       "  'repo': 'pandas',\n",
       "  'repoUrl': 'https://github.com/pandas-dev/pandas',\n",
       "  'stars': 20800,\n",
       "  'forks': 8240}]"
      ]
     },
     "execution_count": 2,
     "metadata": {},
     "output_type": "execute_result"
    }
   ],
   "source": [
    "# Load list of repositories (same as in TW/DLTPy pipeline)\n",
    "repos = load_json('.././data/mypy-dependents-by-stars.json')\n",
    "gen_json_file('.././data/py_500.json', repos, find_current_repos('.././data/training_repos/', True))\n",
    "repos = load_json('.././data/py_500.json')\n",
    "\n",
    "print(\"number of projects:\", len(repos))\n",
    "repos"
   ]
  },
  {
   "cell_type": "code",
   "execution_count": 3,
   "metadata": {},
   "outputs": [],
   "source": [
    "# Initialize repos & output directories\n",
    "repos_dir = \"../data/training_repos\"\n",
    "output_dir = \"../output/import_types\"\n",
    "final_dir = \"../output/_all_import_types.csv\"\n",
    "\n",
    "module_generator = ModuleGenerator(repos_dir, output_dir)"
   ]
  },
  {
   "cell_type": "code",
   "execution_count": null,
   "metadata": {
    "scrolled": false
   },
   "outputs": [
    {
     "name": "stderr",
     "output_type": "stream",
     "text": [
      "100%|██████████| 1/1 [00:00<00:00, 334.18it/s]\n"
     ]
    }
   ],
   "source": [
    "# batch_size = 1\n",
    "# import math\n",
    "# for i in range(0, math.ceil(len(repos)/batch_size)):\n",
    "#     start = i * batch_size\n",
    "#     end = min((i+1) * batch_size, len(repos))\n",
    "#     print(\"Processing\", start, \"to\", end)\n",
    "#     # TODO: Try len(repos) != jobs\n",
    "\n",
    "module_generator.process_repos_for_types(repos, jobs=8, batch_size=64)"
   ]
  },
  {
   "cell_type": "code",
   "execution_count": 5,
   "metadata": {},
   "outputs": [
    {
     "name": "stdout",
     "output_type": "stream",
     "text": [
      "Loaded 0/1 files\n"
     ]
    }
   ],
   "source": [
    "prefix_filters = ['_frozen_importlib', 'unittest', '_ast', '_io', '__main__', 'pytest', '_pytest', 'doctest', 'tracemalloc', 'builtins']\n",
    "\n",
    "# Combine all generated DFs together\n",
    "module_generator.concatenate_dataframes(final_dir, prefix_filters)"
   ]
  },
  {
   "cell_type": "code",
   "execution_count": null,
   "metadata": {},
   "outputs": [],
   "source": []
  }
 ],
 "metadata": {
  "kernelspec": {
   "display_name": "Python 3",
   "language": "python",
   "name": "python3"
  },
  "language_info": {
   "codemirror_mode": {
    "name": "ipython",
    "version": 3
   },
   "file_extension": ".py",
   "mimetype": "text/x-python",
   "name": "python",
   "nbconvert_exporter": "python",
   "pygments_lexer": "ipython3",
   "version": "3.7.6"
  }
 },
 "nbformat": 4,
 "nbformat_minor": 2
}
