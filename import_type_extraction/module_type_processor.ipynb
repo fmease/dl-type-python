{
 "cells": [
  {
   "cell_type": "code",
   "execution_count": null,
   "metadata": {
    "scrolled": true
   },
   "outputs": [],
   "source": [
    "import sys\n",
    "\n",
    "from module_type_generator import ModuleGenerator\n",
    "from gh_query import load_json, gen_json_file, find_current_repos"
   ]
  },
  {
   "cell_type": "code",
   "execution_count": null,
   "metadata": {},
   "outputs": [],
   "source": [
    "# Load list of repositories (same as in TW/DLTPy pipeline)\n",
    "repos = load_json('.././data/mypy-dependents-by-stars.json')\n",
    "gen_json_file('.././data/py_500.json', repos, find_current_repos('.././data/training_repos/', True))\n",
    "repos = load_json('.././data/py_500.json')\n",
    "\n",
    "print(\"number of projects:\", len(repos))\n",
    "repos"
   ]
  },
  {
   "cell_type": "code",
   "execution_count": null,
   "metadata": {},
   "outputs": [],
   "source": [
    "# Initialize repos & output directories\n",
    "repos_dir = \"../data/training_repos\"\n",
    "output_dir = \"../output/import_types\"\n",
    "final_dir = \"../output\"\n",
    "\n",
    "module_generator = ModuleGenerator(repos_dir, output_dir)"
   ]
  },
  {
   "cell_type": "code",
   "execution_count": null,
   "metadata": {
    "scrolled": false
   },
   "outputs": [],
   "source": [
    "# batch_size = 1\n",
    "# import math\n",
    "# for i in range(0, math.ceil(len(repos)/batch_size)):\n",
    "#     start = i * batch_size\n",
    "#     end = min((i+1) * batch_size, len(repos))\n",
    "#     print(\"Processing\", start, \"to\", end)\n",
    "#     # TODO: Try len(repos) != jobs\n",
    "\n",
    "module_generator.process_repos_for_members(repos, jobs=8, batch_size=64)"
   ]
  },
  {
   "cell_type": "code",
   "execution_count": null,
   "metadata": {},
   "outputs": [],
   "source": [
    "prefix_filters = ['_frozen_importlib', 'unittest', '_ast', '_io', '__main__', 'pytest', '_pytest', 'doctest', 'tracemalloc', 'builtins']\n",
    "\n",
    "# Combine all generated DFs together\n",
    "module_generator.concatenate_dataframes(final_dir, \"_all_import_types.csv\", prefix_filters)"
   ]
  },
  {
   "cell_type": "code",
   "execution_count": null,
   "metadata": {},
   "outputs": [],
   "source": []
  }
 ],
 "metadata": {
  "kernelspec": {
   "display_name": "Python 3",
   "language": "python",
   "name": "python3"
  },
  "language_info": {
   "codemirror_mode": {
    "name": "ipython",
    "version": 3
   },
   "file_extension": ".py",
   "mimetype": "text/x-python",
   "name": "python",
   "nbconvert_exporter": "python",
   "pygments_lexer": "ipython3",
   "version": "3.7.6"
  }
 },
 "nbformat": 4,
 "nbformat_minor": 2
}
