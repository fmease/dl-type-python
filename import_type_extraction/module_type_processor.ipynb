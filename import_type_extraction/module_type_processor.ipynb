{
 "cells": [
  {
   "cell_type": "code",
   "execution_count": 1,
   "metadata": {
    "scrolled": true
   },
   "outputs": [
    {
     "name": "stderr",
     "output_type": "stream",
     "text": [
      "[nltk_data] Downloading package averaged_perceptron_tagger to\n",
      "[nltk_data]     C:\\Users\\Evaldas\\AppData\\Roaming\\nltk_data...\n",
      "[nltk_data]   Package averaged_perceptron_tagger is already up-to-\n",
      "[nltk_data]       date!\n",
      "[nltk_data] Downloading package stopwords to\n",
      "[nltk_data]     C:\\Users\\Evaldas\\AppData\\Roaming\\nltk_data...\n",
      "[nltk_data]   Package stopwords is already up-to-date!\n",
      "[nltk_data] Downloading package wordnet to\n",
      "[nltk_data]     C:\\Users\\Evaldas\\AppData\\Roaming\\nltk_data...\n",
      "[nltk_data]   Package wordnet is already up-to-date!\n"
     ]
    },
    {
     "name": "stdout",
     "output_type": "stream",
     "text": [
      "{'collections.abc.AsyncIterable', 'builtins.FutureWarning', 'builtins.bytes_iterator', 'builtins.TabError', 'dis._Instruction', 'builtins.MethodWrapperType', 'collections.abc.Reversible', 'argparse._AppendAction', 'unittest.runner.TextTestRunner', 'collections.abc.ValuesView', 'tarfile.ReadError', 'sre_parse.Tokenizer', 'builtins.PermissionError', 'signal.Signals', '_frozen_importlib.FrozenImporter', 'collections.abc.MutableSet', 'builtins.ImportWarning', 'pydoc.TextDoc', 'email.message.EmailMessage', 'shutil.ExecError', 'contextlib.AbstractContextManager', 'inspect._void', 'zipfile._SharedFile', 'numpy.object0', 'inspect.Parameter', 'email.message.MIMEPart', 'numpy.string_', 'collections.abc.Set', '_ast.Compare', 'pickle._Pickler', 'urllib.parse.SplitResultBytes', 'builtins.SystemError', 'codecs.StreamWriter', '_socket._realsocket', 'inspect.Arguments', 'warnings.catch_warnings', 'builtins.BlockingIOError', '_frozen_importlib_external._NamespacePath', '_io._IOBase', '_winapi.Overlapped', 'zipfile.BadZipfile', 'itertools.product', 'itertools.dropwhile', 'builtins.dict_keys', 'unittest.runner.TextTestResult', 'numpy.unsignedinteger', '_io.IncrementalNewlineDecoder', 'ast.NodeVisitor', 'builtins.UnicodeError', 'tempfile.SpooledTemporaryFile', 'codecs.IncrementalDecoder', 'builtins.FileExistsError', 'socket.AddressInfo', 'builtins.set', '_ast.Param', 'contextlib._RedirectStream', 'numpy.int0', 'builtins.NotADirectoryError', 'selectors._BaseSelectorImpl', '_ast.SetComp', 'itertools.accumulate', 'numpy.character', 'urllib.parse._SplitResultBase', 'codecs.BufferedIncrementalDecoder', 'numpy.cdouble', 'numpy.memmap', 'numpy.int16', 'builtins.MemberDescriptorType', '_bz2.BZ2Decompressor', 'zipfile.ZipFile', 'collections._ChainMap', 'collections.defaultdict', '_frozen_importlib_external.WindowsRegistryFinder', 'weakref.WeakMethod', 'zipimport.ZipImportError', 'builtins.tuple', 'builtins.GeneratorType', 'builtins.UnicodeDecodeError', 'bdb.Bdb', 'zipfile.LZMADecompressor', '_lzma.LZMAError', 'builtins.InterruptedError', 'pydoc.ErrorDuringImport', 'os.stat_result', '_ast.Div', 'numpy.void0', 'selectors.DefaultSelector', 'numpy.void', 'socket.gaierror', 'builtins.super', 'code.InteractiveConsole', '_io._BufferedIOBase', 'difflib.Differ', 'unittest.suite.TestSuite', 'tarfile._Stream', 'builtins.UserWarning', 'nt.DirEntry', '_ast.Yield', 'builtins.StopIteration', 'collections.abc.Sized', 'code.InteractiveInterpreter', '_io.BufferedWriter', 'abc.abstractclassmethod', 'builtins.RuntimeWarning', 'datetime.datetime', 'codecs.BufferedIncrementalEncoder', 'builtins.coroutine', 'functools._HashedSeq', 'unittest.case.FunctionTestCase', '_ast.AugLoad', 'builtins.AttributeError', 'inspect._empty', 'numpy.float16', 'subprocess.CalledProcessError', 'builtins.BytesWarning', '_ast.UAdd', 'numpy.nditer', 'itertools.count', 'builtins.HKEYType', 'itertools.filterfalse', 'builtins.BuiltinMethodType', 'numpy.record', 'enum.EnumMeta', 'builtins.GetSetDescriptorType', 'builtins.long', 'contextlib._BaseExitStack', '_pickle.UnpicklingError', 'pydoc.ModuleScanner', 'numpy.inexact', '_ast.ClassDef', '_ast.While', 'threading.Condition', 'urllib.parse._ResultMixinBytes', 'builtins.TypeError', '_ast.arg', 'builtins.MethodType', 'sre_parse.Verbose', 'tokenize.StopTokenizing', 'argparse._AttributeHolder', 'itertools._chain', 'builtins.range_iterator', '_socket.socket', '_ast.Lt', 'numpy.integer', '_ast.ImportFrom', 'itertools.combinations_with_replacement', 'threading._DummyThread', 'tarfile.TruncatedHeaderError', 'zipfile.PyZipFile', 'enum.IntEnum', 'unittest.main.main', 'pickle._Stop', '_frozen_importlib._DeadlockError', '_frozen_importlib_external._NamespaceLoader', 'inspect.EndOfBlock', 'numpy.single', '_ast.Starred', '_bz2.BZ2Compressor', 'socket._GiveupOnSendfile', 'calendar.LocaleHTMLCalendar', 'binascii.Incomplete', 'os._wrap_close', 'numpy.vectorize', 'selectors._SelectorMapping', 'pickle._Unframer', 'getopt.GetoptError', '_thread._local', 'argparse._CountAction', 'builtins.ValueError', 'scipy.linalg.misc.LinAlgWarning', 'builtins.dict_valueiterator', 'subprocess.Popen', 'itertools.groupby', 'builtins.MappingProxyType', 'builtins.KeyboardInterrupt', 'os.terminal_size', '_ast.Subscript', 'collections.abc.Container', 'itertools.combinations', 'codeop.CommandCompiler', 'selectors.BaseSelector', 'threading.Event', '_ast.Interactive', 'builtins.bytearray_iterator', 'contextlib.ContextDecorator', 'collections.deque', 'argparse._SubParsersAction', 'zipfile.ZipExtFile', 'enum._IntEnum', 'typing.Dict', 'builtins.list', 'builtins.ResourceWarning', 'builtins.classmethod', 'argparse.ArgumentParser', '_ast.FormattedValue', '_ast.operator', '_compression.BaseStream', 'itertools._grouper', 'urllib.parse._ParseResultBase', 'tempfile._TemporaryFileWrapper', 'argparse.RawTextHelpFormatter', 'bz2.BZ2File', '_ast.cmpop', 'types._GeneratorWrapper', 'contextlib.redirect_stdout', 'functools._lru_cache_wrapper', 'builtins.KeyError', 'inspect.ArgInfo', 'calendar.IllegalMonthError', 'builtins.AssertionError', 'numpy.complex128', 'builtins.ReferenceError', 'zipfile.LargeZipFile', '_ast.Or', '_ast.Load', 'unittest.loader.TestLoader', 'zipfile.LZMACompressor', 'builtins.int', 'random._Random', 'datetime.time', 'numpy.uint32', 'builtins.generator', 'unittest.result.TestResult', 'numpy.uint0', '_ast.excepthandler', '_io.StringIO', 'calendar.TextCalendar', 'unittest.main.TestProgram', 'tokenize.TokenError', 'collections.abc.KeysView', 'builtins.dict_itemiterator', 'builtins.CodeType', 'urllib.parse._NetlocResultMixinBytes', 'socket.timeout', 'builtins.ImportError', 'unittest.runner._TextTestResult', 'builtins.SyntaxError', 'inspect.BoundArguments', '_ast.MatMult', 'builtins.dict', 'builtins._code_type', 'builtins.slice', '_frozen_importlib.BuiltinImporter', 'numpy.short', '_frozen_importlib_external.SourcelessFileLoader', '_py_abc.ABCMeta', 'inspect.FullArgSpec', 'shutil.SpecialFileError', 'builtins.str_iterator', 'itertools.permutations', 'datetime.datetime_date', 'numpy.complex_', 'numpy.testing._private.utils.KnownFailureException', 'numpy.uintp', 'pickle._Framer', 'collections.abc.MutableSequence', 'builtins.FloatingPointError', 'builtins.UnicodeWarning', '_frozen_importlib_external.SourceFileLoader', '_ast.Raise', '_ast.Module', 'builtins.BaseException', 'collections.UserString', 'threading.Semaphore', '_frozen_importlib_external.FileFinder', '_ast.AsyncFor', '_ast.GeneratorExp', 'functools.partial', 'numpy.format_parser', 'pydoc.TextRepr', 'collections.UserList', 'argparse._StoreAction', '_ast.IsNot', 'builtins.bytearray', 'builtins.enumerate', 'numpy.complexfloating', 'numpy.ufunc', 'threading._PyRLock', '_ast.Suite', 'socket.SocketKind', 'argparse.HelpFormatter', 'urllib.parse._NetlocResultMixinStr', 'string.Formatter', 'io.TextIOBase', '_ast.AugStore', 'builtins.ThreadError', 'builtins.EnvironmentError', 'zlib.error', '_io.BytesIO', 'difflib.SequenceMatcher', 'collections._OrderedDictValuesView', 'argparse.FileType', '_ast.FunctionDef', 'shutil.RegistryError', 'numpy.matrix', 'argparse._StoreFalseAction', 'numpy.complex64', 'threading._RLock', 'abc.abstractproperty', 'numpy.datetime64', 'enum._EnumDict', '_lzma.LZMACompressor', 'numpy.generic', 'string.Template', 'subprocess.STARTUPINFO', 'numpy.RankWarning', '_ast.slice', 'numpy.busdaycalendar', '_ast.Sub', 'weakref.finalize', '_ast.And', 'builtins.RecursionError', 'builtins.ModuleType', 'builtins.CoroutineType', 'tarfile.TarInfo', '_ast.Store', '_ast.YieldFrom', 'nt.times_result', 'difflib.Match', 'collections.abc.AsyncIterator', 'pydoc._PlainTextDoc', '_ast.withitem', 'collections.abc.Mapping', 'numpy.object_', '__future__._Feature', 'collections.abc.Sequence', 'pickle._Unpickler', 'argparse._VersionAction', 'importlib.util._LazyModule', '_ast.Index', 'email.charset.Charset', '_ast.Str', 'shlex.shlex', 'io.UnsupportedOperation', '_ast.Dict', '_ast.Try', 'argparse.Namespace', 'enum.IntFlag', 'argparse.ArgumentTypeError', '_io.BufferedRWPair', 'unittest.suite.BaseTestSuite', '_thread._CRLock', 'builtins.Warning', '_io._WindowsConsoleIO', 'builtins.zip_iterator', 'urllib.parse.DefragResultBytes', '_pickle.PicklingError', 'builtins.dict_keyiterator', 'tarfile._FileInFile', 'shutil._ntuple_diskusage', 'builtins.property', 'numpy.AxisError', '_io._RawIOBase', 'collections._OrderedDictItemsView', 'urllib.parse.DefragResult', 'numpy.intc', 'collections.abc.Collection', 'builtins.filter', 'builtins.ref', '_ast.stmt', '_ast.AnnAssign', 'calendar.IllegalWeekdayError', '_ast.AST', 'itertools.cycle', 'builtins.UnboundLocalError', '_frozen_importlib_external.ExtensionFileLoader', 'zipfile._ZipWriteFile', 'itertools.zip_longest', 'warnings._OptionError', 'builtins.BufferError', 'abc.ABCMeta', 'builtins.type', 'builtins.float', 'builtins._builtin_str', 'numpy.uint16', '_ast.USub', 'bdb.Tdb', 'traceback.TracebackException', 'calendar.LocaleTextCalendar', 'bdb.Breakpoint', 'numpy.longfloat', 'builtins.list_reverseiterator', 'contextlib._AsyncGeneratorContextManager', 'builtins.PendingDeprecationWarning', 'builtins.ZeroDivisionError', 'types.DynamicClassAttribute', 'numpy.MachAr', 'pydoc.Helper', '_compression.DecompressReader', 'builtins.CallableProxyType', 'reprlib.Repr', 'collections.Counter', 'subprocess.TimeoutExpired', 'tokenize.Untokenizer', 'builtins.SyntaxWarning', 'numpy.byte', 'numpy._pytesttester.PytestTester', 'numpy.int8', 'abc.abstractstaticmethod', 'threading.Barrier', 'numpy.longdouble', 'socket.SocketIO', '_weakrefset.WeakSet', '_ast.RShift', 'builtins.list_iterator', 're.RegexFlag', 'numpy.finfo', 'textwrap.TextWrapper', '_io._StringIO', 'builtins.WrapperDescriptorType', 'numpy.poly1d', 'builtins.map', '_ast.Not', 'numpy.VisibleDeprecationWarning', 'argparse._StoreConstAction', 'collections.abc.AsyncGenerator', 'builtins.ConnectionError', 'builtins.StopAsyncIteration', 'collections.abc.Iterator', 'socket.MsgFlag', 'numpy.testing._private.utils.suppress_warnings', '_ast.arguments', 'zipfile._Tellable', 'operator._itemgetter', 'argparse.ArgumentError', 'nt.uname_result', 'builtins.UnicodeTranslateError', 'argparse.MetavarTypeHelpFormatter', '_ast.DictComp', 'datetime.datetime_timedelta', 'contextlib.closing', 'builtins.Exception', 'inspect._ParameterKind', 'unittest.case.TestCase', '_ast.LShift', '_pickle.Unpickler', 'builtins.dict_items', 'builtins.ClassType', 'argparse._AppendConstAction', 'numpy.recarray', 'builtins.NameError', 'datetime.date', '_ast.Constant', 'numpy.ComplexWarning', 'numpy.bytes0', 'tempfile._RandomNameSequence', 'inspect.ClosureVars', 'builtins.longrange_iterator', 'builtins.BuiltinFunctionType', '_thread.LockType', 'argparse._HelpAction', 'builtins.LookupError', 'itertools.compress', 'builtins.LambdaType', 'numpy.uint64', 'numpy.clongfloat', 'numpy.testing._private.utils.IgnoreException', 'types.SimpleNamespace', 'importlib.util.LazyLoader', 'builtins.ProcessLookupError', 'string._TemplateMetaclass', '_ast.BoolOp', '_ast.Continue', 'shutil.SameFileError', 'numpy.int_', 'builtins.GeneratorExit', '_socket.SocketType', 'itertools.starmap', 'numpy.TooHardError', 'numpy.bool_', 'sre_parse.SubPattern', 'encodings.CodecRegistryError', 'socket.AddressFamily', 'abc.ABC', 'runpy._ModifiedArgv0', 're.error', '_ast.With', 'builtins.ChildProcessError', 'tarfile.StreamError', 'collections.abc.Hashable', 'getopt.error', '_ast.comprehension', 'numpy.str_', 'pkgutil.ImpLoader', 'numpy.singlecomplex', 'builtins.RuntimeError', '_frozen_importlib.__loader__', 'builtins.async_generator', 'collections.abc.MappingView', 'builtins.tuple_iterator', 'builtins.ArithmeticError', '_ast.Expr', 're.Scanner', 'builtins.range', '_ast.Name', 'datetime.timezone', '_ast.Delete', 'codecs.IncrementalEncoder', 'builtins.reversed', 'traceback.FrameSummary', 'builtins.Struct', 'builtins.FrameType', '_ast.mod', 'dis.Bytecode', 'tarfile.SubsequentHeaderError', '_ast.BitXor', '_ast.Set', 'builtins.TimeoutError', '_ast.expr', 'numpy.broadcast', 'contextlib.suppress', '_ast.GtE', 'difflib.HtmlDiff', 'bdb.BdbQuit', '_ast.Await', 'threading.Timer', 'builtins.unicode', '_frozen_importlib.ModuleSpec', 'numpy.flexible', '_io.BufferedRandom', 'numpy.floating', 'io.BufferedIOBase', 'tarfile.EmptyHeaderError', 'itertools._tee_dataobject', 'numpy.ushort', '_ast.Mod', 'builtins.IndexError', '_strptime.LocaleTime', 'builtins.bytes', 'numpy.number', 'contextlib.nullcontext', 'collections.abc.ItemsView', 'builtins.ClassMethodDescriptorType', 'pdb.Pdb', '_frozen_importlib_external.FileLoader', '_ast.In', 'urllib.parse.Quoter', '_ast.Num', 'builtins.WindowsError', 'numpy.int32', 'numpy.intp', 'contextlib.redirect_stderr', 'urllib.parse.ResultBase', 'cmd.Cmd', 'pydoc.HTMLDoc', 'collections.ChainMap', '_ast.Break', '_pickle.PickleError', 'pdb._rstr', '_frozen_importlib._ImportLockContext', 'threading._MainThread', 'itertools.repeat', 'warnings.WarningMessage', 'ast.NodeTransformer', 'threading.BrokenBarrierError', 'itertools.chain', 'numpy.bytes_', 'argparse.ArgumentDefaultsHelpFormatter', 'numpy.int64', 'codecs.StreamReader', 'selectors.SelectSelector', 'numpy.ModuleDeprecationWarning', '_ast.BitAnd', '_ast.Assign', 'struct.error', 'calendar.Calendar', '_pickle.Pickler', 'weakref.WeakKeyDictionary', 'selectors._PollLikeSelector', 'os.PathLike', 'binascii.Error', '_ast.Gt', '_ast.UnaryOp', 'numpy.iinfo', 'functools.partialmethod', 'builtins.set_iterator', 'argparse._StoreTrueAction', 'shutil.Error', 'builtins.TracebackType', '_ast.expr_context', 'numpy.ulonglong', 'builtins._ClassMethodWrapper', 'locale.Error', 'codecs.StreamRecoder', 'os._Environ', 'numpy.ndarray', '_ast.Mult', 'builtins.FileNotFoundError', 'builtins.UnicodeEncodeError', 'platform.uname_result', 'collections.OrderedDict', 'tarfile.HeaderError', 'builtins.ReferenceType', 'threading.Thread', 'numpy.timedelta64', 'socket.herror', 'numpy.float64', 'numpy.dtype', 'traceback.StackSummary', 'builtins.zip', '_ast.Attribute', '_ast.alias', '_frozen_importlib._ModuleLock', 'tarfile._LowLevelFile', 'urllib.parse.ParseResultBytes', 'itertools._starmap', 'itertools.islice', '_ast.BinOp', 'shutil.ReadError', 'calendar._localized_month', 'argparse.RawDescriptionHelpFormatter', '_ast.boolop', 'itertools._islice', 'builtins.str', 'numpy.cfloat', 'numpy.signedinteger', 'collections.abc.ByteString', 'socket.socket', 'collections.abc.Callable', '_io.TextIOWrapper', 'collections.abc.MutableMapping', 'dis.Instruction', 'pdb.Restart', 'builtins.ModuleNotFoundError', 'operator.attrgetter', 'collections.abc.Awaitable', 'contextlib.AsyncExitStack', 'builtins.BrokenPipeError', '_frozen_importlib_external.SourceLoader', 'inspect.Attribute', 'tarfile.TarError', 'copy.error', 'collections.UserDict', 'tarfile.CompressionError', 'gzip._PaddedFile', '_thread.RLock', 'enum.auto', '_ast.ListComp', 'lzma.LZMAFile', 'tarfile.ExFileObject', '_ast.Global', 'urllib.parse.ParseResult', '_ast.Invert', '_frozen_importlib._installed_safely', 'pprint.PrettyPrinter', '_lzma.LZMADecompressor', '_threading_local.local', 'builtins.ConnectionAbortedError', '_thread.local', 'gzip._GzipReader', '_ast.NotEq', 'codecs.StreamReaderWriter', 'builtins.error', 'urllib.parse._ResultMixinStr', 'subprocess.Handle', 'numpy.float_', 'io.RawIOBase', 'numpy.double', '_ast.Lambda', 'numpy.testing._private.nosetester.Tester', 'numpy.longcomplex', '_frozen_importlib_external.PathFinder', 'functools._CacheInfo', '_io.FileIO', '_ast.unaryop', '_ast.Tuple', 'builtins.DeprecationWarning', 'numpy.chararray', 'calendar.HTMLCalendar', '_ast.Del', '_ast.FloorDiv', '_ast.Pass', 'calendar.different_locale', '_io.BufferedReader', 'codecs.CodecInfo', '_ast.Return', 'email._policybase.Policy', '_io._TextIOBase', '_ast.keyword', 'builtins.AsyncGeneratorType', 'builtins.IOError', 'tempfile._TemporaryFileCloser', 'builtins.memoryview', 'numpy.longlong', '_ast.Expression', 'http.HTTPStatus', 'signal.Handlers', 'tarfile.ExtractError', '_ast.Slice', 'os.statvfs_result', '_ast.IfExp', 'numpy.clongdouble', 'numpy.ndenumerate', 'builtins.SystemExit', 'numpy.linalg.LinAlgError', 'builtins.ConnectionRefusedError', 'pydoc.Doc', '_ast.AsyncWith', 'typing.Optional', 'inspect.Signature', '_ast.Call', 'datetime.tzinfo', 'builtins.OSError', 'builtins.ConnectionResetError', 'builtins._MethodWrapper', 'itertools._count', 'datetime.timedelta', 'numpy.uint', '_ast.Pow', 'builtins._WrapperDescriptor', 'numpy.errstate', 're.Match', 'builtins.frozenset', 'itertools._repeat', 'gzip.GzipFile', '_strptime.TimeRE', 'selectors.SelectorKey', 'collections.abc.Generator', '_ast.Nonlocal', '_ast.For', 'tarfile.InvalidHeaderError', 'itertools._tee', 'urllib.parse._NetlocResultMixinBase', 'tarfile.EOFHeaderError', 'numpy.bool8', 'pkgutil.ModuleInfo', 'builtins.MethodDescriptorType', 'collections.abc.Iterable', 'builtins.ProxyType', 'itertools.takewhile', 'collections._Link', '_weakrefset._IterationGuard', 'collections._deque', '_ast.Ellipsis', '_ast.JoinedStr', 'pprint._safe_key', 'builtins.EOFError', 'pydoc.HTMLRepr', '_frozen_importlib._ModuleLockManager', '_frozen_importlib._DummyModuleLock', 'numpy.half', '_frozen_importlib_external._LoaderBasics', 'weakref.KeyedRef', 'subprocess.CompletedProcess', 'subprocess.SubprocessError', 'threading.BoundedSemaphore', 'contextlib.AbstractAsyncContextManager', 'tempfile.TemporaryDirectory', 'builtins.complex', 'builtins.dict_values', 'numpy.flatiter', 'builtins.IsADirectoryError', 'builtins.object', '_ast.LtE', 'inspect.FrameInfo', 'sre_parse.Pattern', 'builtins.MemoryError', '_ast.ExceptHandler', 'numpy.str0', 'numpy.testing._private.utils.clear_and_catch_warnings', 'numpy.unicode_', 'zipfile.ZipInfo', 'unittest.case.SkipTest', '_ast.Bytes', 're.Pattern', '_ast.BitOr', 'argparse._ArgumentGroup', '_ast.NotIn', 'runpy._Error', 'inspect.ArgSpec', 'tarfile.TarFile', 'numpy.ndindex', 'sre_constants._NamedIntConstant', 'time.struct_time', 'zipfile.BadZipFile', 'collections.abc.Coroutine', 'builtins.OverflowError', 'zipimport.zipimporter', '_ast.Add', 'urllib.parse._DefragResultBase', 'argparse._MutuallyExclusiveGroup', 'codecs.Codec', '_ast.AugAssign', 'builtins.IndentationError', 'builtins.FunctionType', 'tokenize.TokenInfo', 'io.IOBase', '_ast.Assert', 'email.message.Message', 'numpy.float32', 'collections._OrderedDictKeysView', '_ast.Import', '_ast.Is', '_ast.NameConstant', 'numpy.ubyte', 'inspect.BlockFinder', 'numpy.uintc', '_ast.Eq', 'copy.Error', 'weakref.WeakValueDictionary', 'inspect.Traceback', '_ast.ExtSlice', 'contextlib._GeneratorContextManagerBase', 'numpy.uint8', 'enum.Enum', 'datetime.datetime_timezone', 'pkgutil.ImpImporter', 'builtins.NotImplementedError', '_ast.AsyncFunctionDef', 'argparse._ActionsContainer', 'contextlib._GeneratorContextManager', 'enum.Flag', 'builtins.mappingproxy', 'calendar._localized_day', 'argparse.Action', '_ast.If', 'runpy._TempModule', 'zipfile.error', 'builtins.bool', 'numpy.csingle', 'numpy.DataSource', '_ast.List', 'urllib.parse.SplitResult', 'tarfile._StreamProxy', 'contextlib.ExitStack', 'builtins.staticmethod'}\n"
     ]
    }
   ],
   "source": [
    "import sys\n",
    "\n",
    "from module_type_generator import ModuleGenerator\n",
    "from gh_query import load_json, gen_json_file, find_current_repos"
   ]
  },
  {
   "cell_type": "code",
   "execution_count": 2,
   "metadata": {},
   "outputs": [
    {
     "name": "stdout",
     "output_type": "stream",
     "text": [
      "number of projects: 1\n"
     ]
    },
    {
     "data": {
      "text/plain": [
       "[{'author': 'pandas-dev',\n",
       "  'repo': 'pandas',\n",
       "  'repoUrl': 'https://github.com/pandas-dev/pandas',\n",
       "  'stars': 20800,\n",
       "  'forks': 8240}]"
      ]
     },
     "execution_count": 2,
     "metadata": {},
     "output_type": "execute_result"
    }
   ],
   "source": [
    "# Load list of repositories (same as in TW/DLTPy pipeline)\n",
    "repos = load_json('.././data/mypy-dependents-by-stars.json')\n",
    "gen_json_file('.././data/py_500.json', repos, find_current_repos('.././data/training_repos/', True))\n",
    "repos = load_json('.././data/py_500.json')\n",
    "\n",
    "print(\"number of projects:\", len(repos))\n",
    "repos"
   ]
  },
  {
   "cell_type": "code",
   "execution_count": 3,
   "metadata": {},
   "outputs": [],
   "source": [
    "# Initialize repos & output directories\n",
    "repos_dir = \"../data/training_repos\"\n",
    "output_dir = \"../output/import_types\"\n",
    "final_dir = \"../output/_all_import_types.csv\"\n",
    "\n",
    "module_generator = ModuleGenerator(repos_dir, output_dir)"
   ]
  },
  {
   "cell_type": "code",
   "execution_count": 4,
   "metadata": {
    "scrolled": false
   },
   "outputs": [
    {
     "name": "stderr",
     "output_type": "stream",
     "text": [
      "\r",
      "  0%|          | 0/1 [00:00<?, ?it/s]"
     ]
    },
    {
     "name": "stdout",
     "output_type": "stream",
     "text": [
      "Processing 0 to 1\n",
      "Running pipeline for project 0 pandas-dev/pandas\n",
      "Filtering for pandas-dev/pandas...\n",
      "Extracting import typesfor pandas-dev/pandas...\n"
     ]
    },
    {
     "name": "stderr",
     "output_type": "stream",
     "text": [
      "100%|██████████| 1/1 [11:27<00:00, 687.98s/it]\n"
     ]
    }
   ],
   "source": [
    "batch_size = 1\n",
    "import math\n",
    "\n",
    "for i in range(0, math.ceil(len(repos)/batch_size)):\n",
    "    start = i * batch_size\n",
    "    end = min((i+1) * batch_size, len(repos))\n",
    "    print(\"Processing\", start, \"to\", end)\n",
    "    # TODO: Try len(repos) != jobs\n",
    "    module_generator.process_repos_for_types(repos[start:end], jobs=batch_size)"
   ]
  },
  {
   "cell_type": "code",
   "execution_count": 5,
   "metadata": {},
   "outputs": [
    {
     "name": "stdout",
     "output_type": "stream",
     "text": [
      "Loaded 0/1 files\n"
     ]
    }
   ],
   "source": [
    "prefix_filters = ['_frozen_importlib', 'unittest', '_ast', '_io', '__main__', 'pytest', '_pytest', 'doctest', 'tracemalloc', 'builtins']\n",
    "\n",
    "# Combine all generated DFs together\n",
    "module_generator.concatenate_dataframes(final_dir, prefix_filters)"
   ]
  },
  {
   "cell_type": "code",
   "execution_count": null,
   "metadata": {},
   "outputs": [],
   "source": []
  }
 ],
 "metadata": {
  "kernelspec": {
   "display_name": "Python 3",
   "language": "python",
   "name": "python3"
  },
  "language_info": {
   "codemirror_mode": {
    "name": "ipython",
    "version": 3
   },
   "file_extension": ".py",
   "mimetype": "text/x-python",
   "name": "python",
   "nbconvert_exporter": "python",
   "pygments_lexer": "ipython3",
   "version": "3.7.6"
  }
 },
 "nbformat": 4,
 "nbformat_minor": 2
}
